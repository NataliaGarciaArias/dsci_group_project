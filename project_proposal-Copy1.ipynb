{
 "cells": [
  {
   "cell_type": "markdown",
   "metadata": {},
   "source": [
    "**Methods**"
   ]
  },
  {
   "cell_type": "markdown",
   "metadata": {},
   "source": [
    "Given that the response variable (wine quality based on subjective sensory data) is quantitative, we will use regression for our predictions. All of the other variables in this dataset appear to have the potential to affect the taste and/or smell of wine. Therefore, to begin our analysis, we have visualized each of the predictor variables as scatter plots with the predictor variable on the x-axis and wine quality on the y-axis. "
   ]
  },
  {
   "cell_type": "code",
   "execution_count": 2,
   "metadata": {},
   "outputs": [
    {
     "ename": "ERROR",
     "evalue": "Error in ggplot(wine_training, aes(x = fixed_acidity, y = quality)): could not find function \"ggplot\"\n",
     "output_type": "error",
     "traceback": [
      "Error in ggplot(wine_training, aes(x = fixed_acidity, y = quality)): could not find function \"ggplot\"\nTraceback:\n"
     ]
    }
   ],
   "source": [
    "fixed_acidity_plot <- ggplot(wine_training, aes(x = fixed_acidity, y = quality)) +\n",
    "  geom_point(alpha = 0.4) +\n",
    "  xlab(\"Fixed Acidity (g(tartaric acid)/dm^3)\") +\n",
    "  ylab(\"Wine Quality\") +\n",
    "  theme(text = element_text(size = 14)) +\n",
    "  ggtitle(\"Relationship Between Fixed Acidity and Wine Quality\")\n",
    "fixed_acidity_plot\n",
    "\n",
    "PearsonCorrelation_Fixed_Acidity <- cor(wine_training$fixed_acidity, wine_training$quality, method = c(\"pearson\"))\n",
    "PearsonCorrelation_Fixed_Acidity\n",
    "\n",
    "volatile_acidity_plot <- ggplot(wine_training, aes(x = volatile_acidity , y = quality)) +\n",
    "  geom_point(alpha = 0.4) +\n",
    "  xlab(\"Volatile Acidity (g(acetic acid)/dm^3)\") +\n",
    "  ylab(\"Wine Quality\") +\n",
    "  theme(text = element_text(size = 14)) +\n",
    "  ggtitle(\"Relationship Between Volatile Acidity and Wine Quality\")\n",
    "volatile_acidity_plot\n",
    "\n",
    "PearsonCorrelation_Volatile_Acidity <- cor(wine_training$volatile_acidity, wine_training$quality, method = c(\"pearson\"))\n",
    "PearsonCorrelation_Volatile_Acidity\n",
    "\n",
    "residual_sugar_plot <- ggplot(wine_training, aes(x = residual_sugar, y = quality)) +\n",
    "  geom_point(alpha = 0.4) +\n",
    "  xlab(\"Residual Sugar (g/dm^3)\") +\n",
    "  ylab(\"Wine Quality\") +\n",
    "  theme(text = element_text(size = 14)) +\n",
    "  ggtitle(\"Relationship Between Residual Sugar and Wine Quality\")\n",
    "residual_sugar_plot\n",
    "\n",
    "PearsonCorrelation_Residual_Sugar <- cor(wine_training$residual_sugar, wine_training$quality, method = c(\"pearson\"))\n",
    "PearsonCorrelation_Residual_Sugar\n",
    "\n",
    "citric_acid_plot <- ggplot(wine_training, aes(x = citric_acid, y = quality)) +\n",
    "  geom_point(alpha = 0.4) +\n",
    "  xlab(\"Citric Acid (g/dm^3)\") +\n",
    "  ylab(\"Wine Quality\") +\n",
    "  theme(text = element_text(size = 14)) +\n",
    "  ggtitle(\"Relationship Between Citric Acid and Wine Quality\")\n",
    "citric_acid_plot\n",
    "\n",
    "PearsonCorrelation_Citric_Acid <- cor(wine_training$citric_acid, wine_training$quality, method = c(\"pearson\"))\n",
    "PearsonCorrelation_Citric_Acid\n",
    "\n",
    "chlorides_plot <- ggplot(wine_training, aes(x = chlorides, y = quality)) +\n",
    "  geom_point(alpha = 0.4) +\n",
    "  xlab(\"Chlorides (g(sodium chloride)/dm^3)\") +\n",
    "  ylab(\"Wine Quality\") +\n",
    "  theme(text = element_text(size = 14)) +\n",
    "  ggtitle(\"Relationship Between Chlorides and Wine Quality\")\n",
    "chlorides_plot\n",
    "\n",
    "PearsonCorrelation_Chlorides <- cor(wine_training$chlorides, wine_training$quality, method = c(\"pearson\"))\n",
    "PearsonCorrelation_Chlorides\n",
    "\n",
    "free_sulfur_dioxide_plot <- ggplot(wine_training, aes(x = free_sulfur_dioxide, y = quality)) +\n",
    "  geom_point(alpha = 0.4) +\n",
    "  xlab(\"Free Sulfur Dioxide (mg/dm^3)\") +\n",
    "  ylab(\"Wine Quality\") +\n",
    "  theme(text = element_text(size = 14)) +\n",
    "  ggtitle(\"Relationship Between Free Sulfur Dioxide and Wine Quality\")\n",
    "free_sulfur_dioxide_plot\n",
    "\n",
    "PearsonCorrelation_Free_Sulfur_Dioxide <- cor(wine_training$free_sulfur_dioxide, wine_training$quality, method = c(\"pearson\"))\n",
    "PearsonCorrelation_Free_Sulfur_Dioxide\n",
    "\n",
    "total_sulfur_dioxide <- ggplot(wine_training, aes(x = total_sulfur_dioxide, y = quality)) +\n",
    "  geom_point(alpha = 0.4) +\n",
    "  xlab(\"Total Sulfur Dioxide (mg/dm^3)\") +\n",
    "  ylab(\"Wine Quality\") +\n",
    "  theme(text = element_text(size = 14)) +\n",
    "  ggtitle(\"Relationship Between Total Sulfur Dioxide and Wine Quality\")\n",
    "total_sulfur_dioxide\n",
    "\n",
    "PearsonCorrelation_Total_Sulfur_Dioxide <- cor(wine_training$total_sulfur_dioxide, wine_training$quality, method = c(\"pearson\"))\n",
    "PearsonCorrelation_Total_Sulfur_Dioxide\n",
    "\n",
    "density_plot <- ggplot(wine_training, aes(x = density, y = quality)) +\n",
    "  geom_point(alpha = 0.4) +\n",
    "  xlab(\"Density (g/dm^3)\") +\n",
    "  ylab(\"Wine Quality\") +\n",
    "  theme(text = element_text(size = 14)) +\n",
    "  ggtitle(\"Relationship Between Density and Wine Quality\")\n",
    "density_plot\n",
    "\n",
    "PearsonCorrelation_Density <- cor(wine_training$density, wine_training$quality, method = c(\"pearson\"))\n",
    "PearsonCorrelation_Density\n",
    "\n",
    "pH_plot <- ggplot(wine_training, aes(x = pH, y = quality)) +\n",
    "  geom_point(alpha = 0.4) +\n",
    "  xlab(\"pH\") +\n",
    "  ylab(\"Wine Quality\") +\n",
    "  theme(text = element_text(size = 14)) +\n",
    "  ggtitle(\"Relationship Between pH and Wine Quality\")\n",
    "pH_plot\n",
    "\n",
    "PearsonCorrelation_pH <- cor(wine_training$pH, wine_training$quality, method = c(\"pearson\"))\n",
    "PearsonCorrelation_pH\n",
    "\n",
    "sulphates_plot <- ggplot(wine_training, aes(x = sulphates, y = quality)) +\n",
    "  geom_point(alpha = 0.4) +\n",
    "  xlab(\"Sulphates (g(potassium sulfate)/dm^3)\") +\n",
    "  ylab(\"Wine Quality\") +\n",
    "  theme(text = element_text(size = 14)) +\n",
    "  ggtitle(\"Relationship Between Sulphates and Wine Quality\")\n",
    "sulphates_plot\n",
    "\n",
    "PearsonCorrelation_Sulphates <- cor(wine_training$sulphates, wine_training$quality, method = c(\"pearson\"))\n",
    "PearsonCorrelation_Sulphates\n",
    "\n",
    "alcohol_plot <- ggplot(wine_training, aes(x = alcohol, y = quality)) +\n",
    "  geom_point(alpha = 0.4) +\n",
    "  xlab(\"Alcohol (%vol)\") +\n",
    "  ylab(\"Wine Quality\") +\n",
    "  theme(text = element_text(size = 14)) +\n",
    "  ggtitle(\"Relationship Between Alcohol and Wine Quality\")\n",
    "alcohol_plot\n",
    "\n",
    "PearsonCorrelation_Alcohol <- cor(wine_training$alcohol, wine_training$quality, method = c(\"pearson\"))\n",
    "PearsonCorrelation_Alcohol"
   ]
  },
  {
   "cell_type": "code",
   "execution_count": null,
   "metadata": {},
   "outputs": [],
   "source": [
    "plot_grid(fixed_acidity_plot, volatile_acidity_plot, residual_sugar_plot)"
   ]
  },
  {
   "cell_type": "markdown",
   "metadata": {},
   "source": [
    "Correlations:  \n",
    "Wine Quality & Fixed Acidity"
   ]
  },
  {
   "cell_type": "code",
   "execution_count": 6,
   "metadata": {},
   "outputs": [
    {
     "ename": "ERROR",
     "evalue": "Error in is.data.frame(y): object 'wine_training' not found\n",
     "output_type": "error",
     "traceback": [
      "Error in is.data.frame(y): object 'wine_training' not found\nTraceback:\n",
      "1. cor(wine_training$fixed_acidity, wine_training$quality, method = c(\"pearson\"))",
      "2. is.data.frame(y)"
     ]
    }
   ],
   "source": [
    "PearsonCorrelation_Fixed_Acidity <- cor(wine_training$fixed_acidity, wine_training$quality, method = c(\"pearson\"))\n",
    "PearsonCorrelation_Fixed_Acidity"
   ]
  },
  {
   "cell_type": "markdown",
   "metadata": {},
   "source": [
    "Wine Quality & Volatile Acidity "
   ]
  },
  {
   "cell_type": "code",
   "execution_count": null,
   "metadata": {},
   "outputs": [],
   "source": [
    "PearsonCorrelation_Volatile_Acidity <- cor(wine_training$volatile_acidity, wine_training$quality, method = c(\"pearson\"))\n",
    "PearsonCorrelation_Volatile_Acidity"
   ]
  },
  {
   "cell_type": "markdown",
   "metadata": {},
   "source": [
    "Wine Quality & Residual Sugar"
   ]
  },
  {
   "cell_type": "code",
   "execution_count": null,
   "metadata": {},
   "outputs": [],
   "source": [
    "PearsonCorrelation_Residual_Sugar <- cor(wine_training$residual_sugar, wine_training$quality, method = c(\"pearson\"))\n",
    "PearsonCorrelation_Residual_Sugar"
   ]
  },
  {
   "cell_type": "markdown",
   "metadata": {},
   "source": [
    "Wine Quality & Citric Acid"
   ]
  },
  {
   "cell_type": "code",
   "execution_count": null,
   "metadata": {},
   "outputs": [],
   "source": [
    "PearsonCorrelation_Citric_Acid <- cor(wine_training$citric_acid, wine_training$quality, method = c(\"pearson\"))\n",
    "PearsonCorrelation_Citric_Acid"
   ]
  },
  {
   "cell_type": "markdown",
   "metadata": {},
   "source": [
    "Wine Quality & Chlorides"
   ]
  },
  {
   "cell_type": "code",
   "execution_count": null,
   "metadata": {},
   "outputs": [],
   "source": [
    "PearsonCorrelation_Chlorides <- cor(wine_training$chlorides, wine_training$quality, method = c(\"pearson\"))\n",
    "PearsonCorrelation_Chlorides"
   ]
  },
  {
   "cell_type": "markdown",
   "metadata": {},
   "source": [
    "Wine Quality & Free Sulfur Dioxide"
   ]
  },
  {
   "cell_type": "code",
   "execution_count": null,
   "metadata": {},
   "outputs": [],
   "source": [
    "PearsonCorrelation_Free_Sulfur_Dioxide <- cor(wine_training$free_sulfur_dioxide, wine_training$quality, method = c(\"pearson\"))\n",
    "PearsonCorrelation_Free_Sulfur_Dioxide"
   ]
  },
  {
   "cell_type": "markdown",
   "metadata": {},
   "source": [
    "Wine Quality & Total Sulfur Dioxide"
   ]
  },
  {
   "cell_type": "code",
   "execution_count": null,
   "metadata": {},
   "outputs": [],
   "source": [
    "PearsonCorrelation_Total_Sulfur_Dioxide <- cor(wine_training$total_sulfur_dioxide, wine_training$quality, method = c(\"pearson\"))\n",
    "PearsonCorrelation_Total_Sulfur_Dioxide"
   ]
  },
  {
   "cell_type": "markdown",
   "metadata": {},
   "source": [
    "Wine Quality & Density"
   ]
  },
  {
   "cell_type": "code",
   "execution_count": null,
   "metadata": {},
   "outputs": [],
   "source": [
    "PearsonCorrelation_Density <- cor(wine_training$density, wine_training$quality, method = c(\"pearson\"))\n",
    "PearsonCorrelation_Density"
   ]
  },
  {
   "cell_type": "markdown",
   "metadata": {},
   "source": [
    "Wine Quality & pH"
   ]
  },
  {
   "cell_type": "code",
   "execution_count": 3,
   "metadata": {},
   "outputs": [
    {
     "ename": "ERROR",
     "evalue": "Error in is.data.frame(y): object 'wine_training' not found\n",
     "output_type": "error",
     "traceback": [
      "Error in is.data.frame(y): object 'wine_training' not found\nTraceback:\n",
      "1. cor(wine_training$pH, wine_training$quality, method = c(\"pearson\"))",
      "2. is.data.frame(y)"
     ]
    }
   ],
   "source": [
    "PearsonCorrelation_pH <- cor(wine_training$pH, wine_training$quality, method = c(\"pearson\"))\n",
    "PearsonCorrelation_pH"
   ]
  },
  {
   "cell_type": "markdown",
   "metadata": {},
   "source": [
    "Wine Quality & Sulphates"
   ]
  },
  {
   "cell_type": "code",
   "execution_count": null,
   "metadata": {},
   "outputs": [],
   "source": [
    "PearsonCorrelation_Sulphates <- cor(wine_training$sulphates, wine_training$quality, method = c(\"pearson\"))\n",
    "PearsonCorrelation_Sulphates"
   ]
  },
  {
   "cell_type": "markdown",
   "metadata": {},
   "source": [
    "Wine Quality & Alcohol"
   ]
  },
  {
   "cell_type": "code",
   "execution_count": null,
   "metadata": {},
   "outputs": [],
   "source": [
    "PearsonCorrelation_Alcohol <- cor(wine_training$alcohol, wine_training$quality, method = c(\"pearson\"))\n",
    "PearsonCorrelation_Alcohol"
   ]
  },
  {
   "cell_type": "markdown",
   "metadata": {},
   "source": [
    "We can see that fixed acidity, volatile acidity, residual sugar, free sulfur dioxide, and alcohol are moderately correlated with wine quality. In order to conduct our data analysis, we will first use a multivariate K-nearest neighbors-based approach and perform cross-validation to determine at which value of K the minimum RMSPE occurs. Using this K value, we will re-train our KNN regression model and then make predictions on the testing data set. The RMSPE will let us evaluate our model's accuracy. We will also use a multiple linear regression approach to calculate the line of best fit, including the intercept and slope coefficients, and we will evaluate any outliers. We will again compute the RMSPE. We will choose the model with the least bias (i.e., the lower RMSPE). If the linear regression model is the better fit, we will visualise our data using a flat plane; otherwise, we will use a flexible plane."
   ]
  },
  {
   "cell_type": "code",
   "execution_count": null,
   "metadata": {},
   "outputs": [],
   "source": []
  }
 ],
 "metadata": {
  "kernelspec": {
   "display_name": "R",
   "language": "R",
   "name": "ir"
  },
  "language_info": {
   "codemirror_mode": "r",
   "file_extension": ".r",
   "mimetype": "text/x-r-source",
   "name": "R",
   "pygments_lexer": "r",
   "version": "4.0.0"
  }
 },
 "nbformat": 4,
 "nbformat_minor": 4
}
