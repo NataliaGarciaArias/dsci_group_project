{
 "cells": [
  {
   "cell_type": "markdown",
   "metadata": {},
   "source": [
    "<font size=\"5\">**Predicting the Quality of Wine**</font>"
   ]
  },
  {
   "cell_type": "markdown",
   "metadata": {},
   "source": [
    "**By Project Group 25 (Natalia Garcia-Arias, Marta Halasz, Kevin Meng, and Sara Trnovska)**"
   ]
  },
  {
   "cell_type": "markdown",
   "metadata": {},
   "source": [
    "<font size=\"3\">**Introduction**</font>"
   ]
  },
  {
   "cell_type": "markdown",
   "metadata": {},
   "source": [
    "Drinking wine is an enjoyable pastime that many indulge in. To ensure customer satisfaction, it is of utmost importance for wine manufacturers to check the quality of their wine. Wine certification is normally done with the help of physicochemical tests revealing the wine’s physicochemical composition and sensory tests showing subjective assessments of wine quality (Nebot, Mugica, and Escobet, 2015, p. 501). An efficient prediction model based physicochemical variables that have a strong relationship with wine quality would greatly facilitate the certification process by eliminating the need for taste testers. The wine data used in this project was collected from May 2004 to February 2007 for red and white variants of the Portuguese Vinho Verde wine by the University of Minho in Guimaraes, Portugal and was taken from the UCI Machine Learning Repository. The data consists of results of physicochemical tests of wine samples as well as sensory assessments of the wine quality by taste testers who graded the quality of the wine on a scale of one to ten. A list of all of the variables in the dataset is shown below (Nebot, Mugica, and Escobet, 2015, p. 504):\n",
    "* Fixed acidity (g(tartaric acid)/dm<sup>3</sup>)\n",
    "* Volatile acidity (g(acetic acid)/dm<sup>3</sup>)\n",
    "* Citric acid (g/dm<sup>3</sup>)\n",
    "* Residual sugar (g/dm<sup>3</sup>)\n",
    "* Chlorides (g(sodium chloride)/dm<sup>3</sup>)\n",
    "* Free sulfur dioxide (mg/dm<sup>3</sup>)\n",
    "* Total sulfur dioxide (mg/dm<sup>3</sup>)\n",
    "* Density (g/dm<sup>3</sup>)\n",
    "* pH\n",
    "* Sulfates (g(potassium sulfate)/dm<sup>3</sup>)\n",
    "* Alcohol (%vol)\n",
    "* Quality\n",
    "\n",
    "Later in the proposal, it was found that alcohol, density, chlorides, and volatile acidity were the strongest predictors for wine quality. Knowing this as well as the physicochemical composition of the wine samples and the sensory assessment of the samples, our project aims to answer the following question: how do alcohol, density, chlorides, and volatile acidity predict the quality of the wine? \n"
   ]
  },
  {
   "cell_type": "markdown",
   "metadata": {},
   "source": [
    "<font size=\"3\">**Preliminary Exploratory Data Analysis**</font>"
   ]
  },
  {
   "cell_type": "markdown",
   "metadata": {},
   "source": [
    "First, we loaded all of the packages needed for our preliminary data analysis (tidyverse, repr, tidymodels, and cowplot)."
   ]
  },
  {
   "cell_type": "code",
   "execution_count": 2,
   "metadata": {},
   "outputs": [
    {
     "name": "stderr",
     "output_type": "stream",
     "text": [
      "── \u001b[1mAttaching packages\u001b[22m ─────────────────────────────────────── tidyverse 1.3.0 ──\n",
      "\n",
      "\u001b[32m✔\u001b[39m \u001b[34mggplot2\u001b[39m 3.3.2     \u001b[32m✔\u001b[39m \u001b[34mpurrr  \u001b[39m 0.3.4\n",
      "\u001b[32m✔\u001b[39m \u001b[34mtibble \u001b[39m 3.0.3     \u001b[32m✔\u001b[39m \u001b[34mdplyr  \u001b[39m 1.0.2\n",
      "\u001b[32m✔\u001b[39m \u001b[34mtidyr  \u001b[39m 1.1.2     \u001b[32m✔\u001b[39m \u001b[34mstringr\u001b[39m 1.4.0\n",
      "\u001b[32m✔\u001b[39m \u001b[34mreadr  \u001b[39m 1.3.1     \u001b[32m✔\u001b[39m \u001b[34mforcats\u001b[39m 0.5.0\n",
      "\n",
      "Warning message:\n",
      "“package ‘ggplot2’ was built under R version 4.0.1”\n",
      "Warning message:\n",
      "“package ‘tibble’ was built under R version 4.0.2”\n",
      "Warning message:\n",
      "“package ‘tidyr’ was built under R version 4.0.2”\n",
      "Warning message:\n",
      "“package ‘dplyr’ was built under R version 4.0.2”\n",
      "── \u001b[1mConflicts\u001b[22m ────────────────────────────────────────── tidyverse_conflicts() ──\n",
      "\u001b[31m✖\u001b[39m \u001b[34mdplyr\u001b[39m::\u001b[32mfilter()\u001b[39m masks \u001b[34mstats\u001b[39m::filter()\n",
      "\u001b[31m✖\u001b[39m \u001b[34mdplyr\u001b[39m::\u001b[32mlag()\u001b[39m    masks \u001b[34mstats\u001b[39m::lag()\n",
      "\n",
      "Warning message:\n",
      "“package ‘tidymodels’ was built under R version 4.0.2”\n",
      "── \u001b[1mAttaching packages\u001b[22m ────────────────────────────────────── tidymodels 0.1.1 ──\n",
      "\n",
      "\u001b[32m✔\u001b[39m \u001b[34mbroom    \u001b[39m 0.7.0      \u001b[32m✔\u001b[39m \u001b[34mrecipes  \u001b[39m 0.1.13\n",
      "\u001b[32m✔\u001b[39m \u001b[34mdials    \u001b[39m 0.0.9      \u001b[32m✔\u001b[39m \u001b[34mrsample  \u001b[39m 0.0.7 \n",
      "\u001b[32m✔\u001b[39m \u001b[34minfer    \u001b[39m 0.5.4      \u001b[32m✔\u001b[39m \u001b[34mtune     \u001b[39m 0.1.1 \n",
      "\u001b[32m✔\u001b[39m \u001b[34mmodeldata\u001b[39m 0.0.2      \u001b[32m✔\u001b[39m \u001b[34mworkflows\u001b[39m 0.2.0 \n",
      "\u001b[32m✔\u001b[39m \u001b[34mparsnip  \u001b[39m 0.1.3      \u001b[32m✔\u001b[39m \u001b[34myardstick\u001b[39m 0.0.7 \n",
      "\n",
      "Warning message:\n",
      "“package ‘broom’ was built under R version 4.0.2”\n",
      "Warning message:\n",
      "“package ‘dials’ was built under R version 4.0.2”\n",
      "Warning message:\n",
      "“package ‘infer’ was built under R version 4.0.3”\n",
      "Warning message:\n",
      "“package ‘modeldata’ was built under R version 4.0.1”\n",
      "Warning message:\n",
      "“package ‘parsnip’ was built under R version 4.0.2”\n",
      "Warning message:\n",
      "“package ‘recipes’ was built under R version 4.0.1”\n",
      "Warning message:\n",
      "“package ‘tune’ was built under R version 4.0.2”\n",
      "Warning message:\n",
      "“package ‘workflows’ was built under R version 4.0.2”\n",
      "Warning message:\n",
      "“package ‘yardstick’ was built under R version 4.0.2”\n",
      "── \u001b[1mConflicts\u001b[22m ───────────────────────────────────────── tidymodels_conflicts() ──\n",
      "\u001b[31m✖\u001b[39m \u001b[34mscales\u001b[39m::\u001b[32mdiscard()\u001b[39m masks \u001b[34mpurrr\u001b[39m::discard()\n",
      "\u001b[31m✖\u001b[39m \u001b[34mdplyr\u001b[39m::\u001b[32mfilter()\u001b[39m   masks \u001b[34mstats\u001b[39m::filter()\n",
      "\u001b[31m✖\u001b[39m \u001b[34mrecipes\u001b[39m::\u001b[32mfixed()\u001b[39m  masks \u001b[34mstringr\u001b[39m::fixed()\n",
      "\u001b[31m✖\u001b[39m \u001b[34mdplyr\u001b[39m::\u001b[32mlag()\u001b[39m      masks \u001b[34mstats\u001b[39m::lag()\n",
      "\u001b[31m✖\u001b[39m \u001b[34myardstick\u001b[39m::\u001b[32mspec()\u001b[39m masks \u001b[34mreadr\u001b[39m::spec()\n",
      "\u001b[31m✖\u001b[39m \u001b[34mrecipes\u001b[39m::\u001b[32mstep()\u001b[39m   masks \u001b[34mstats\u001b[39m::step()\n",
      "\n",
      "Warning message:\n",
      "“package ‘cowplot’ was built under R version 4.0.3”\n"
     ]
    }
   ],
   "source": [
    "#loading packages\n",
    "library(tidyverse)\n",
    "library(repr)\n",
    "library(tidymodels)\n",
    "library(cowplot)"
   ]
  },
  {
   "cell_type": "markdown",
   "metadata": {},
   "source": [
    "Next, we loaded the data for red and white wine into R using the read_delim function, assigned column names to all of the columns in the dataset, and combined the data into one dataframe."
   ]
  },
  {
   "cell_type": "code",
   "execution_count": 3,
   "metadata": {},
   "outputs": [
    {
     "ename": "ERROR",
     "evalue": "Error: 'winequality-red (1).csv' does not exist in current working directory ('/home/jupyter/dsci_group_project').\n",
     "output_type": "error",
     "traceback": [
      "Error: 'winequality-red (1).csv' does not exist in current working directory ('/home/jupyter/dsci_group_project').\nTraceback:\n",
      "1. read_delim(\"winequality-red (1).csv\", delim = \";\") %>% mutate(quality = quality) %>% \n .     mutate(wine_type = as.factor(\"red\")) %>% setNames(c(\"fixed_acidity\", \n .     \"volatile_acidity\", \"citric_acid\", \"residual_sugar\", \"chlorides\", \n .     \"free_sulfur_dioxide\", \"total_sulfur_dioxide\", \"density\", \n .     \"pH\", \"sulphates\", \"alcohol\", \"quality\", \"wine_type\"))",
      "2. eval(lhs, parent, parent)",
      "3. eval(lhs, parent, parent)",
      "4. read_delim(\"winequality-red (1).csv\", delim = \";\")",
      "5. read_delimited(file, tokenizer, col_names = col_names, col_types = col_types, \n .     locale = locale, skip = skip, skip_empty_rows = skip_empty_rows, \n .     comment = comment, n_max = n_max, guess_max = guess_max, \n .     progress = progress)",
      "6. standardise_path(file)",
      "7. check_path(path)",
      "8. stop(\"'\", path, \"' does not exist\", if (!is_absolute_path(path)) paste0(\" in current working directory ('\", \n .     getwd(), \"')\"), \".\", call. = FALSE)"
     ]
    }
   ],
   "source": [
    "#read red wine data, assign wine-type label and new column names\n",
    "red_wine_data <- read_delim(\"winequality-red (1).csv\", delim = \";\")%>%\n",
    "                    mutate(quality = quality)%>%\n",
    "                    mutate(wine_type = as.factor(\"red\"))%>%\n",
    "                    setNames (c(\"fixed_acidity\", \"volatile_acidity\", \"citric_acid\", \"residual_sugar\", \"chlorides\", \"free_sulfur_dioxide\", \"total_sulfur_dioxide\", \"density\", \"pH\", \"sulphates\", \"alcohol\", \"quality\", \"wine_type\"))\n",
    "\n",
    "#read white wine data, assign wine-type label and new column names\n",
    "white_wine_data <- read_delim(\"winequality-white.csv\", delim = \";\")%>%\n",
    "                    mutate(quality = quality)%>%\n",
    "                    mutate(wine_type = as.factor(\"white\"))%>%\n",
    "                    setNames (c(\"fixed_acidity\", \"volatile_acidity\", \"citric_acid\", \"residual_sugar\", \"chlorides\", \"free_sulfur_dioxide\", \"total_sulfur_dioxide\", \"density\", \"pH\", \"sulphates\", \"alcohol\", \"quality\", \"wine_type\"))\n",
    "\n",
    "#combine both wine types into one dataframe\n",
    "wine_data <- rbind(red_wine_data, white_wine_data)"
   ]
  },
  {
   "cell_type": "markdown",
   "metadata": {},
   "source": [
    "Next, we split the dataset into our training and testing data."
   ]
  },
  {
   "cell_type": "code",
   "execution_count": 4,
   "metadata": {},
   "outputs": [
    {
     "ename": "ERROR",
     "evalue": "Error in eval_select_impl(NULL, .vars, expr(c(!!!dots)), include = .include, : object 'wine_data' not found\n",
     "output_type": "error",
     "traceback": [
      "Error in eval_select_impl(NULL, .vars, expr(c(!!!dots)), include = .include, : object 'wine_data' not found\nTraceback:\n",
      "1. initial_split(wine_data, prop = 0.75, strata = quality)",
      "2. tidyselect::vars_select(names(data), !!enquo(strata))",
      "3. eval_select_impl(NULL, .vars, expr(c(!!!dots)), include = .include, \n .     exclude = .exclude, strict = .strict, name_spec = unique_name_spec, \n .     uniquely_named = TRUE)"
     ]
    }
   ],
   "source": [
    "#split dataset into training and testing data\n",
    "wine_split <- initial_split(wine_data, prop = 0.75, strata = quality)\n",
    "wine_training <- training(wine_split)\n",
    "wine_testing <- testing(wine_split)"
   ]
  },
  {
   "cell_type": "markdown",
   "metadata": {},
   "source": [
    "We used the glimpse() function to view our data."
   ]
  },
  {
   "cell_type": "code",
   "execution_count": null,
   "metadata": {},
   "outputs": [],
   "source": [
    "#glimpse into the dataset\n",
    "glimpse(wine_training)"
   ]
  },
  {
   "cell_type": "markdown",
   "metadata": {},
   "source": [
    "We then found the number of observations per class."
   ]
  },
  {
   "cell_type": "code",
   "execution_count": null,
   "metadata": {},
   "outputs": [],
   "source": [
    "#summarizes the number of observations per class\n",
    "num_obs <- nrow(wine_training)\n",
    "\n",
    "wine_training %>%\n",
    "  group_by(quality) %>%\n",
    "  summarize(\n",
    "    count = n(),\n",
    "    percentage = n() / num_obs * 100\n",
    "  )"
   ]
  },
  {
   "cell_type": "markdown",
   "metadata": {},
   "source": [
    "We provided a summary for the predictors, including the mean, the amount of missing data, etc."
   ]
  },
  {
   "cell_type": "code",
   "execution_count": null,
   "metadata": {},
   "outputs": [],
   "source": [
    "#choosing 4 predictors\n",
    "predictors <- wine_training %>%\n",
    "    select(density, volatile_acidity, chlorides, alcohol)\n",
    "\n",
    "#provides summary for the predictors (mean, number of missing data, etc)\n",
    "summary_data <- predictors %>%\n",
    "    summary()\n",
    "summary_data"
   ]
  },
  {
   "cell_type": "markdown",
   "metadata": {},
   "source": [
    "We created a plot for each predictor to show the predictor's distribution."
   ]
  },
  {
   "cell_type": "code",
   "execution_count": null,
   "metadata": {},
   "outputs": [],
   "source": [
    "#setting plot size\n",
    "options(repr.plot.width = 14, repr.plot.height = 8)\n",
    "\n",
    "#create plot for each predictor and their distribution\n",
    "density_plot <- predictors %>% ggplot(aes(x = density)) +\n",
    "    geom_histogram(binwidth = .001)+\n",
    "    xlab(\"Density (g/dm^3)\")+\n",
    "    ylab(\"Count\")+\n",
    "    ggtitle(\"Density Distribution\")\n",
    "\n",
    "chlorides_plot <- predictors %>% ggplot(aes(x = chlorides)) +\n",
    "    geom_histogram(binwidth = .01)+\n",
    "    xlab(\"Chlorides (g(sodium chloride)/dm^3)\")+\n",
    "    ylab(\"Count\")+\n",
    "    ggtitle(\"Chlorides Distribution\")\n",
    "\n",
    "volatile_acidity_plot <- predictors %>% ggplot(aes(x = volatile_acidity)) +\n",
    "    geom_histogram(binwidth = .025)+\n",
    "    xlab(\"Volatile Acidity (g(acetic acid)/dm^3)\")+\n",
    "    ylab(\"Count\")+\n",
    "    ggtitle(\"Volatile Acidity Distribution\")\n",
    "\n",
    "alcohol_plot <- predictors %>% ggplot(aes(x = alcohol)) +\n",
    "    geom_histogram(binwidth = .1)+\n",
    "    xlab(\"Alcohol (%vol)\")+\n",
    "    ylab(\"Count\")+\n",
    "    ggtitle(\"Alcohol Distribution\")\n",
    "\n",
    "#create grid of above plots for comparison\n",
    "predictor_distribution <- plot_grid(density_plot, volatile_acidity_plot, alcohol_plot, chlorides_plot )\n",
    "predictor_distribution"
   ]
  },
  {
   "cell_type": "markdown",
   "metadata": {},
   "source": [
    "<font size=\"3\">**Methods**</font>"
   ]
  },
  {
   "cell_type": "markdown",
   "metadata": {},
   "source": [
    "Given that the response variable (wine quality based on subjective sensory data) is quantitative, we will use **regression** for our predictions. All of the other variables in this dataset appear to have the potential to affect the taste and/or smell of wine. Therefore, to begin our analysis, we have visualized each of the predictor variables as scatter plots with the predictor variable on the x-axis and wine quality on the y-axis."
   ]
  },
  {
   "cell_type": "markdown",
   "metadata": {},
   "source": [
    "First, we created scatterplots to assess the relationships between each of the potential predictor variables and wine quality and assembled them into a grid. Meanwhile, we also calculated the correlations between each predictor variable and wine quality."
   ]
  },
  {
   "cell_type": "code",
   "execution_count": null,
   "metadata": {},
   "outputs": [],
   "source": [
    "options(repr.plot.width = 17, repr.plot.height = 25)\n",
    "\n",
    "#create scatterplot of fixed acidity vs wine quality\n",
    "fixed_acidity_scatter <- ggplot(wine_training, aes(x = fixed_acidity, y = quality)) +\n",
    "  geom_point(alpha = 0.4) +\n",
    "  xlab(\"Fixed Acidity (g(tartaric acid)/dm^3)\") +\n",
    "  ylab(\"Wine Quality\") +\n",
    "  theme(text = element_text(size = 14)) +\n",
    "  ggtitle(\"Relationship Between Fixed Acidity and \\n Wine Quality (r = -0.0865)\")\n",
    "\n",
    "#find correlation between fixed acidity and wine quality\n",
    "PearsonCorrelation_Fixed_Acidity <- cor(wine_training$fixed_acidity, wine_training$quality, method = c(\"pearson\"))\n",
    "\n",
    "#create scatterplot of volatile acidity vs wine quality\n",
    "volatile_acidity_scatter <- ggplot(wine_training, aes(x = volatile_acidity , y = quality)) +\n",
    "  geom_point(alpha = 0.4) +\n",
    "  xlab(\"Volatile Acidity (g(acetic acid)/dm^3)\") +\n",
    "  ylab(\"Wine Quality\") +\n",
    "  theme(text = element_text(size = 14)) +\n",
    "  ggtitle(\"Relationship Between Volatile Acidity and \\n Wine Quality (r = -0.2635)\")\n",
    "\n",
    "#find correlation between volatile acidity and wine quality\n",
    "PearsonCorrelation_Volatile_Acidity <- cor(wine_training$volatile_acidity, wine_training$quality, method = c(\"pearson\"))\n",
    "\n",
    "\n",
    "#create scatterplot of residual sugar vs wine quality\n",
    "residual_sugar_scatter <- ggplot(wine_training, aes(x = residual_sugar, y = quality)) +\n",
    "  geom_point(alpha = 0.4) +\n",
    "  xlab(\"Residual Sugar (g/dm^3)\") +\n",
    "  ylab(\"Wine Quality\") +\n",
    "  theme(text = element_text(size = 14)) +\n",
    "  ggtitle(\"Relationship Between Residual Sugar and \\n Wine Quality (r = -0.0441)\")\n",
    "\n",
    "#find correlation between residual sugar and wine quality\n",
    "PearsonCorrelation_Residual_Sugar <- cor(wine_training$residual_sugar, wine_training$quality, method = c(\"pearson\"))\n",
    "\n",
    "#create scatterplot of citric acid vs wine quality\n",
    "citric_acid_scatter <- ggplot(wine_training, aes(x = citric_acid, y = quality)) +\n",
    "  geom_point(alpha = 0.4) +\n",
    "  xlab(\"Citric Acid (g/dm^3)\") +\n",
    "  ylab(\"Wine Quality\") +\n",
    "  theme(text = element_text(size = 14)) +\n",
    "  ggtitle(\"Relationship Between Citric Acid and \\n Wine Quality (r = 0.0780)\")\n",
    "\n",
    "#find correlation between citric acid and wine quality\n",
    "PearsonCorrelation_Citric_Acid <- cor(wine_training$citric_acid, wine_training$quality, method = c(\"pearson\"))\n",
    "\n",
    "#create scatterplot of chlorides vs wine quality\n",
    "chlorides_scatter <- ggplot(wine_training, aes(x = chlorides, y = quality)) +\n",
    "  geom_point(alpha = 0.4) +\n",
    "  xlab(\"Chlorides (g(sodium chloride)/dm^3)\") +\n",
    "  ylab(\"Wine Quality\") +\n",
    "  theme(text = element_text(size = 14)) +\n",
    "  ggtitle(\"Relationship Between Chlorides and \\n Wine Quality (r = -0.2036)\")\n",
    "\n",
    "#find correlation between chlorides and wine quality\n",
    "PearsonCorrelation_Chlorides <- cor(wine_training$chlorides, wine_training$quality, method = c(\"pearson\"))\n",
    "\n",
    "#create scatterplot of free sulfur dioxide vs wine quality\n",
    "free_sulfur_dioxide_scatter <- ggplot(wine_training, aes(x = free_sulfur_dioxide, y = quality)) +\n",
    "  geom_point(alpha = 0.4) +\n",
    "  xlab(\"Free Sulfur Dioxide (mg/dm^3)\") +\n",
    "  ylab(\"Wine Quality\") +\n",
    "  theme(text = element_text(size = 14)) +\n",
    "  ggtitle(\"Relationship Between Free Sulfur Dioxide and \\n Wine Quality (r = 0.0631)\")\n",
    "\n",
    "#find correlation between free sulfur dioxide and wine quality\n",
    "PearsonCorrelation_Free_Sulfur_Dioxide <- cor(wine_training$free_sulfur_dioxide, wine_training$quality, method = c(\"pearson\"))\n",
    "\n",
    "#create scatterplot of total sulfur dioxide vs wine quality\n",
    "total_sulfur_dioxide_scatter <- ggplot(wine_training, aes(x = total_sulfur_dioxide, y = quality)) +\n",
    "  geom_point(alpha = 0.4) +\n",
    "  xlab(\"Total Sulfur Dioxide (mg/dm^3)\") +\n",
    "  ylab(\"Wine Quality\") +\n",
    "  theme(text = element_text(size = 14)) +\n",
    "  ggtitle(\"Relationship Between Total Sulfur Dioxide and \\n Wine Quality (r = -0.0428)\")\n",
    "\n",
    "#find correlation between total sulfur dioxide and wine quality\n",
    "PearsonCorrelation_Total_Sulfur_Dioxide <- cor(wine_training$total_sulfur_dioxide, wine_training$quality, method = c(\"pearson\"))\n",
    "\n",
    "#create scatterplot of density vs wine quality\n",
    "density_scatter <- ggplot(wine_training, aes(x = density, y = quality)) +\n",
    "  geom_point(alpha = 0.4) +\n",
    "  xlab(\"Density (g/dm^3)\") +\n",
    "  ylab(\"Wine Quality\") +\n",
    "  theme(text = element_text(size = 14)) +\n",
    "  ggtitle(\"Relationship Between Density and \\n Wine Quality (r = -0.3145)\")\n",
    "\n",
    "#find correlation between density and wine quality\n",
    "PearsonCorrelation_Density <- cor(wine_training$density, wine_training$quality, method = c(\"pearson\"))\n",
    "\n",
    "#create scatterplot of pH vs wine quality\n",
    "pH_scatter <- ggplot(wine_training, aes(x = pH, y = quality)) +\n",
    "  geom_point(alpha = 0.4) +\n",
    "  xlab(\"pH\") +\n",
    "  ylab(\"Wine Quality\") +\n",
    "  theme(text = element_text(size = 14)) +\n",
    "  ggtitle(\"Relationship Between pH and \\n Wine Quality (r = 0.0278)\")\n",
    "\n",
    "#find correlation between pH and wine quality\n",
    "PearsonCorrelation_pH <- cor(wine_training$pH, wine_training$quality, method = c(\"pearson\"))\n",
    "\n",
    "#create scatterplot of sulphates vs wine quality\n",
    "sulphates_scatter <- ggplot(wine_training, aes(x = sulphates, y = quality)) +\n",
    "  geom_point(alpha = 0.4) +\n",
    "  xlab(\"Sulphates (g(potassium sulfate)/dm^3)\") +\n",
    "  ylab(\"Wine Quality\") +\n",
    "  theme(text = element_text(size = 14)) +\n",
    "  ggtitle(\"Relationship Between Sulphates and \\n Wine Quality (r = 0.0422)\")\n",
    "\n",
    "#find correlation between sulphates and wine quality\n",
    "PearsonCorrelation_Sulphates <- cor(wine_training$sulphates, wine_training$quality, method = c(\"pearson\"))\n",
    "\n",
    "#create scatterplot of alcohol vs wine quality\n",
    "alcohol_scatter <- ggplot(wine_training, aes(x = alcohol, y = quality)) +\n",
    "  geom_point(alpha = 0.4) +\n",
    "  xlab(\"Alcohol (%vol)\") +\n",
    "  ylab(\"Wine Quality\") +\n",
    "  theme(text = element_text(size = 14)) +\n",
    "  ggtitle(\"Relationship Between Alcohol and \\n Wine Quality (r = 0.4394)\")\n",
    "\n",
    "#find correlation between alcohol and wine quality\n",
    "PearsonCorrelation_Alcohol <- cor(wine_training$alcohol, wine_training$quality, method = c(\"pearson\"))\n",
    "\n",
    "#setting plot size\n",
    "options(repr.plot.width = 17, repr.plot.height = 25)\n",
    "\n",
    "#creates grid of predictor variable vs wine quality scatterplots \n",
    "grid <- plot_grid(fixed_acidity_scatter, volatile_acidity_scatter, residual_sugar_scatter, citric_acid_scatter, chlorides_scatter, free_sulfur_dioxide_scatter, total_sulfur_dioxide_scatter, density_scatter, pH_scatter, sulphates_scatter, alcohol_scatter, ncol = 2)\n",
    "grid"
   ]
  },
  {
   "cell_type": "markdown",
   "metadata": {},
   "source": [
    "We can see that alcohol, density, chlorides, and volatile acidity are weakly-to-moderately correlated with wine quality; therefore, we will use these variables for our models. In order to conduct our data analysis, we will first use a multivariate K-nearest neighbors-based approach and perform cross-validation to determine at which value of K the minimum RMSPE occurs. Using this K value, we will re-train our KNN regression model and then make predictions on the testing data set. The RMSPE will let us evaluate our model's accuracy. We will also use a multiple linear regression approach to calculate the line of best fit, including the intercept and slope coefficients, and we will evaluate any outliers. We will again compute the RMSPE. We will choose the model with the least bias (i.e., the lower RMSPE). If the linear regression model is the better fit, we will visualise our data using a flat plane; otherwise, we will use a flexible plane."
   ]
  },
  {
   "cell_type": "markdown",
   "metadata": {},
   "source": [
    "<font size=\"3\">**Expected Outcomes and Significance**</font>"
   ]
  },
  {
   "cell_type": "markdown",
   "metadata": {},
   "source": [
    "Through our linear multiple regression analysis, we expect to get a fitted linear equation with an intercept and slope coefficients that we can use to get a predicted value of wine quality when we know the values of certain correlated variables. Through our KNN regression analysis, we will be able to get a predicted value of wine quality by examining the values of certain correlated variables that a particular sample of wine possesses and finding the nearest neighbours of those datapoints. Through our findings, we expect to be able to significantly predict subjective assessments of wine quality by collecting data about a wine sample's physicochemical properties (alcohol, density, chlorides, and volatile acidity).\n",
    "\n",
    "This data analysis simplifies the traditional wine certification phase. Besides wine, this type of analysis can also be applied to other liquids. For example, how do glucose, caffeine, electrolytes, and amino acids predict the quality of sports drinks?"
   ]
  },
  {
   "cell_type": "markdown",
   "metadata": {},
   "source": [
    "<font size =\"3\">**Linear Regression Analysis**</font>"
   ]
  },
  {
   "cell_type": "code",
   "execution_count": null,
   "metadata": {},
   "outputs": [],
   "source": [
    "mlm_spec <- linear_reg() %>%\n",
    "set_engine(\"lm\") %>%\n",
    "set_mode(\"regression\")\n",
    "mlm_spec\n",
    "\n",
    "mlm_recipe <- recipe(quality ~ density + volatile_acidity + chlorides + alcohol, data = wine_training)\n",
    "mlm_recipe\n",
    "\n",
    "mlm_fit <- workflow() %>%\n",
    "add_recipe(mlm_recipe) %>%\n",
    "add_model(mlm_spec) %>%\n",
    "fit(data = wine_training)\n",
    "mlm_fit\n",
    "\n",
    "lm_mult_test_results <- mlm_fit %>%\n",
    "predict(wine_testing) %>%\n",
    "bind_cols(wine_testing) %>%\n",
    "metrics(truth = quality, estimate = .pred)\n",
    "lm_mult_test_results"
   ]
  },
  {
   "cell_type": "markdown",
   "metadata": {},
   "source": [
    "<font size=\"3\">**Bibliography**</font>"
   ]
  },
  {
   "cell_type": "markdown",
   "metadata": {},
   "source": [
    "Nebot, À., Mugica, F., & Escobet, A. (2015, July). Modeling Wine Preferences from Physicochemical Properties using Fuzzy Techniques. In *SIMULTECH* (pp. 501-507)."
   ]
  }
 ],
 "metadata": {
  "kernelspec": {
   "display_name": "R",
   "language": "R",
   "name": "ir"
  },
  "language_info": {
   "codemirror_mode": "r",
   "file_extension": ".r",
   "mimetype": "text/x-r-source",
   "name": "R",
   "pygments_lexer": "r",
   "version": "4.0.0"
  }
 },
 "nbformat": 4,
 "nbformat_minor": 4
}
