{
 "cells": [
  {
   "cell_type": "code",
   "execution_count": 1,
   "metadata": {},
   "outputs": [
    {
     "name": "stderr",
     "output_type": "stream",
     "text": [
      "── \u001b[1mAttaching packages\u001b[22m ─────────────────────────────────────── tidyverse 1.3.0 ──\n",
      "\n",
      "\u001b[32m✔\u001b[39m \u001b[34mggplot2\u001b[39m 3.3.2     \u001b[32m✔\u001b[39m \u001b[34mpurrr  \u001b[39m 0.3.4\n",
      "\u001b[32m✔\u001b[39m \u001b[34mtibble \u001b[39m 3.0.3     \u001b[32m✔\u001b[39m \u001b[34mdplyr  \u001b[39m 1.0.2\n",
      "\u001b[32m✔\u001b[39m \u001b[34mtidyr  \u001b[39m 1.1.2     \u001b[32m✔\u001b[39m \u001b[34mstringr\u001b[39m 1.4.0\n",
      "\u001b[32m✔\u001b[39m \u001b[34mreadr  \u001b[39m 1.3.1     \u001b[32m✔\u001b[39m \u001b[34mforcats\u001b[39m 0.5.0\n",
      "\n",
      "Warning message:\n",
      "“package ‘ggplot2’ was built under R version 4.0.1”\n",
      "Warning message:\n",
      "“package ‘tibble’ was built under R version 4.0.2”\n",
      "Warning message:\n",
      "“package ‘tidyr’ was built under R version 4.0.2”\n",
      "Warning message:\n",
      "“package ‘dplyr’ was built under R version 4.0.2”\n",
      "── \u001b[1mConflicts\u001b[22m ────────────────────────────────────────── tidyverse_conflicts() ──\n",
      "\u001b[31m✖\u001b[39m \u001b[34mdplyr\u001b[39m::\u001b[32mfilter()\u001b[39m masks \u001b[34mstats\u001b[39m::filter()\n",
      "\u001b[31m✖\u001b[39m \u001b[34mdplyr\u001b[39m::\u001b[32mlag()\u001b[39m    masks \u001b[34mstats\u001b[39m::lag()\n",
      "\n",
      "Warning message:\n",
      "“package ‘tidymodels’ was built under R version 4.0.2”\n",
      "── \u001b[1mAttaching packages\u001b[22m ────────────────────────────────────── tidymodels 0.1.1 ──\n",
      "\n",
      "\u001b[32m✔\u001b[39m \u001b[34mbroom    \u001b[39m 0.7.0      \u001b[32m✔\u001b[39m \u001b[34mrecipes  \u001b[39m 0.1.13\n",
      "\u001b[32m✔\u001b[39m \u001b[34mdials    \u001b[39m 0.0.9      \u001b[32m✔\u001b[39m \u001b[34mrsample  \u001b[39m 0.0.7 \n",
      "\u001b[32m✔\u001b[39m \u001b[34minfer    \u001b[39m 0.5.4      \u001b[32m✔\u001b[39m \u001b[34mtune     \u001b[39m 0.1.1 \n",
      "\u001b[32m✔\u001b[39m \u001b[34mmodeldata\u001b[39m 0.0.2      \u001b[32m✔\u001b[39m \u001b[34mworkflows\u001b[39m 0.2.0 \n",
      "\u001b[32m✔\u001b[39m \u001b[34mparsnip  \u001b[39m 0.1.3      \u001b[32m✔\u001b[39m \u001b[34myardstick\u001b[39m 0.0.7 \n",
      "\n",
      "Warning message:\n",
      "“package ‘broom’ was built under R version 4.0.2”\n",
      "Warning message:\n",
      "“package ‘dials’ was built under R version 4.0.2”\n",
      "Warning message:\n",
      "“package ‘infer’ was built under R version 4.0.3”\n",
      "Warning message:\n",
      "“package ‘modeldata’ was built under R version 4.0.1”\n",
      "Warning message:\n",
      "“package ‘parsnip’ was built under R version 4.0.2”\n",
      "Warning message:\n",
      "“package ‘recipes’ was built under R version 4.0.1”\n",
      "Warning message:\n",
      "“package ‘tune’ was built under R version 4.0.2”\n",
      "Warning message:\n",
      "“package ‘workflows’ was built under R version 4.0.2”\n",
      "Warning message:\n",
      "“package ‘yardstick’ was built under R version 4.0.2”\n",
      "── \u001b[1mConflicts\u001b[22m ───────────────────────────────────────── tidymodels_conflicts() ──\n",
      "\u001b[31m✖\u001b[39m \u001b[34mscales\u001b[39m::\u001b[32mdiscard()\u001b[39m masks \u001b[34mpurrr\u001b[39m::discard()\n",
      "\u001b[31m✖\u001b[39m \u001b[34mdplyr\u001b[39m::\u001b[32mfilter()\u001b[39m   masks \u001b[34mstats\u001b[39m::filter()\n",
      "\u001b[31m✖\u001b[39m \u001b[34mrecipes\u001b[39m::\u001b[32mfixed()\u001b[39m  masks \u001b[34mstringr\u001b[39m::fixed()\n",
      "\u001b[31m✖\u001b[39m \u001b[34mdplyr\u001b[39m::\u001b[32mlag()\u001b[39m      masks \u001b[34mstats\u001b[39m::lag()\n",
      "\u001b[31m✖\u001b[39m \u001b[34myardstick\u001b[39m::\u001b[32mspec()\u001b[39m masks \u001b[34mreadr\u001b[39m::spec()\n",
      "\u001b[31m✖\u001b[39m \u001b[34mrecipes\u001b[39m::\u001b[32mstep()\u001b[39m   masks \u001b[34mstats\u001b[39m::step()\n",
      "\n"
     ]
    }
   ],
   "source": [
    "#Read before running\n",
    "library(tidyverse)\n",
    "library(repr)\n",
    "library(tidymodels)"
   ]
  },
  {
   "cell_type": "markdown",
   "metadata": {},
   "source": [
    "**Preliminary exploratory data analysis:**\n",
    "* Demonstrate that the dataset can be read from the web into R \n",
    "* Clean and wrangle your data into a tidy format"
   ]
  },
  {
   "cell_type": "code",
   "execution_count": 9,
   "metadata": {},
   "outputs": [
    {
     "name": "stderr",
     "output_type": "stream",
     "text": [
      "Parsed with column specification:\n",
      "cols(\n",
      "  `fixed acidity` = \u001b[32mcol_double()\u001b[39m,\n",
      "  `volatile acidity` = \u001b[32mcol_double()\u001b[39m,\n",
      "  `citric acid` = \u001b[32mcol_double()\u001b[39m,\n",
      "  `residual sugar` = \u001b[32mcol_double()\u001b[39m,\n",
      "  chlorides = \u001b[32mcol_double()\u001b[39m,\n",
      "  `free sulfur dioxide` = \u001b[32mcol_double()\u001b[39m,\n",
      "  `total sulfur dioxide` = \u001b[32mcol_double()\u001b[39m,\n",
      "  density = \u001b[32mcol_double()\u001b[39m,\n",
      "  pH = \u001b[32mcol_double()\u001b[39m,\n",
      "  sulphates = \u001b[32mcol_double()\u001b[39m,\n",
      "  alcohol = \u001b[32mcol_double()\u001b[39m,\n",
      "  quality = \u001b[32mcol_double()\u001b[39m\n",
      ")\n",
      "\n",
      "Parsed with column specification:\n",
      "cols(\n",
      "  `fixed acidity` = \u001b[32mcol_double()\u001b[39m,\n",
      "  `volatile acidity` = \u001b[32mcol_double()\u001b[39m,\n",
      "  `citric acid` = \u001b[32mcol_double()\u001b[39m,\n",
      "  `residual sugar` = \u001b[32mcol_double()\u001b[39m,\n",
      "  chlorides = \u001b[32mcol_double()\u001b[39m,\n",
      "  `free sulfur dioxide` = \u001b[32mcol_double()\u001b[39m,\n",
      "  `total sulfur dioxide` = \u001b[32mcol_double()\u001b[39m,\n",
      "  density = \u001b[32mcol_double()\u001b[39m,\n",
      "  pH = \u001b[32mcol_double()\u001b[39m,\n",
      "  sulphates = \u001b[32mcol_double()\u001b[39m,\n",
      "  alcohol = \u001b[32mcol_double()\u001b[39m,\n",
      "  quality = \u001b[32mcol_double()\u001b[39m\n",
      ")\n",
      "\n"
     ]
    }
   ],
   "source": [
    "#read red wine data, assign wine-type label and new column names\n",
    "red_wine_data <- read_delim(\"winequality-red (1).csv\", delim = \";\")%>%\n",
    "                    mutate(quality = as.factor(quality))%>%\n",
    "                    mutate(wine_type = as.factor(\"red\"))%>%\n",
    "                    setNames (c(\"fixed_acidity\", \"volatile_acidity\", \"citric_acid\", \"residual_sugar\", \"chlorides\", \"free_sulfur_dioxide\", \"total_sulfur_dioxide\", \"density\", \"pH\", \"sulphates\", \"alcohol\", \"quality\", \"wine_type\"))\n",
    "\n",
    "#read white wine data, assign wine-type label and new column names\n",
    "white_wine_data <- read_delim(\"winequality-white.csv\", delim = \";\")%>%\n",
    "                    mutate(quality = as.factor(quality))%>%\n",
    "                    mutate(wine_type = as.factor(\"white\"))%>%\n",
    "                    setNames (c(\"fixed_acidity\", \"volatile_acidity\", \"citric_acid\", \"residual_sugar\", \"chlorides\", \"free_sulfur_dioxide\", \"total_sulfur_dioxide\", \"density\", \"pH\", \"sulphates\", \"alcohol\", \"quality\", \"wine_type\"))\n",
    "#combine both wine types into one dataframe\n",
    "wine_data <- rbind(red_wine_data, white_wine_data)\n"
   ]
  },
  {
   "cell_type": "markdown",
   "metadata": {},
   "source": [
    "* Using only training data, summarize the data in at least one table (this is exploratory data analysis). An example of a useful table could be one that reports the number of observations in each class, the means of the predictor variables you plan to use in your analysis and how many rows have missing data. \n",
    "* Using only training data, visualize the data with at least one plot relevant to the analysis you plan to do (this is exploratory data analysis). An example of a useful visualization could be one that compares the distributions of each of the predictor variables you plan to use in your analysis."
   ]
  },
  {
   "cell_type": "code",
   "execution_count": 4,
   "metadata": {},
   "outputs": [],
   "source": [
    "#split dataset into training and testing data\n",
    "wine_split <- initial_split(wine_data, prop = 0.75, strata = quality)\n",
    "wine_training <- training(wine_split)\n",
    "wine_testing <- testing(wine_split)"
   ]
  },
  {
   "cell_type": "code",
   "execution_count": 5,
   "metadata": {},
   "outputs": [
    {
     "name": "stdout",
     "output_type": "stream",
     "text": [
      "Rows: 4,874\n",
      "Columns: 13\n",
      "$ fixed_acidity        \u001b[3m\u001b[90m<dbl>\u001b[39m\u001b[23m 7.8, 7.8, 11.2, 7.4, 7.9, 7.3, 6.7, 7.5, 5.6, 8.…\n",
      "$ volatile_acidity     \u001b[3m\u001b[90m<dbl>\u001b[39m\u001b[23m 0.880, 0.760, 0.280, 0.700, 0.600, 0.650, 0.580,…\n",
      "$ citric_acid          \u001b[3m\u001b[90m<dbl>\u001b[39m\u001b[23m 0.00, 0.04, 0.56, 0.00, 0.06, 0.00, 0.08, 0.36, …\n",
      "$ residual_sugar       \u001b[3m\u001b[90m<dbl>\u001b[39m\u001b[23m 2.6, 2.3, 1.9, 1.9, 1.6, 1.2, 1.8, 6.1, 1.6, 3.9…\n",
      "$ chlorides            \u001b[3m\u001b[90m<dbl>\u001b[39m\u001b[23m 0.098, 0.092, 0.075, 0.076, 0.069, 0.065, 0.097,…\n",
      "$ free_sulfur_dioxide  \u001b[3m\u001b[90m<dbl>\u001b[39m\u001b[23m 25, 15, 17, 11, 15, 15, 15, 17, 16, 51, 35, 16, …\n",
      "$ total_sulfur_dioxide \u001b[3m\u001b[90m<dbl>\u001b[39m\u001b[23m 67, 54, 60, 34, 59, 21, 65, 102, 59, 148, 103, 5…\n",
      "$ density              \u001b[3m\u001b[90m<dbl>\u001b[39m\u001b[23m 0.9968, 0.9970, 0.9980, 0.9978, 0.9964, 0.9946, …\n",
      "$ pH                   \u001b[3m\u001b[90m<dbl>\u001b[39m\u001b[23m 3.20, 3.26, 3.16, 3.51, 3.30, 3.39, 3.28, 3.35, …\n",
      "$ sulphates            \u001b[3m\u001b[90m<dbl>\u001b[39m\u001b[23m 0.68, 0.65, 0.58, 0.56, 0.46, 0.47, 0.54, 0.80, …\n",
      "$ alcohol              \u001b[3m\u001b[90m<dbl>\u001b[39m\u001b[23m 9.8, 9.8, 9.8, 9.4, 9.4, 10.0, 9.2, 10.5, 9.9, 9…\n",
      "$ quality              \u001b[3m\u001b[90m<fct>\u001b[39m\u001b[23m 5, 5, 6, 5, 5, 7, 5, 5, 5, 5, 7, 5, 4, 6, 6, 5, …\n",
      "$ wine_type            \u001b[3m\u001b[90m<fct>\u001b[39m\u001b[23m red, red, red, red, red, red, red, red, red, red…\n"
     ]
    }
   ],
   "source": [
    "glimpse(wine_training)"
   ]
  },
  {
   "cell_type": "markdown",
   "metadata": {},
   "source": [
    "Extracting all the categories that may be predicted:"
   ]
  },
  {
   "cell_type": "code",
   "execution_count": 6,
   "metadata": {},
   "outputs": [
    {
     "data": {
      "text/html": [
       "<style>\n",
       ".list-inline {list-style: none; margin:0; padding: 0}\n",
       ".list-inline>li {display: inline-block}\n",
       ".list-inline>li:not(:last-child)::after {content: \"\\00b7\"; padding: 0 .5ex}\n",
       "</style>\n",
       "<ol class=list-inline><li>'3'</li><li>'4'</li><li>'5'</li><li>'6'</li><li>'7'</li><li>'8'</li><li>'9'</li></ol>\n"
      ],
      "text/latex": [
       "\\begin{enumerate*}\n",
       "\\item '3'\n",
       "\\item '4'\n",
       "\\item '5'\n",
       "\\item '6'\n",
       "\\item '7'\n",
       "\\item '8'\n",
       "\\item '9'\n",
       "\\end{enumerate*}\n"
      ],
      "text/markdown": [
       "1. '3'\n",
       "2. '4'\n",
       "3. '5'\n",
       "4. '6'\n",
       "5. '7'\n",
       "6. '8'\n",
       "7. '9'\n",
       "\n",
       "\n"
      ],
      "text/plain": [
       "[1] \"3\" \"4\" \"5\" \"6\" \"7\" \"8\" \"9\""
      ]
     },
     "metadata": {},
     "output_type": "display_data"
    }
   ],
   "source": [
    "classes <- wine_training %>% pull(quality) %>% levels()\n",
    "classes"
   ]
  },
  {
   "cell_type": "markdown",
   "metadata": {},
   "source": [
    "Find the number and percentage of the categories in the dataset"
   ]
  },
  {
   "cell_type": "code",
   "execution_count": 7,
   "metadata": {},
   "outputs": [
    {
     "name": "stderr",
     "output_type": "stream",
     "text": [
      "`summarise()` ungrouping output (override with `.groups` argument)\n",
      "\n"
     ]
    },
    {
     "data": {
      "text/html": [
       "<table>\n",
       "<caption>A tibble: 7 × 3</caption>\n",
       "<thead>\n",
       "\t<tr><th scope=col>quality</th><th scope=col>count</th><th scope=col>percentage</th></tr>\n",
       "\t<tr><th scope=col>&lt;fct&gt;</th><th scope=col>&lt;int&gt;</th><th scope=col>&lt;dbl&gt;</th></tr>\n",
       "</thead>\n",
       "<tbody>\n",
       "\t<tr><td>3</td><td>  23</td><td> 0.47189167</td></tr>\n",
       "\t<tr><td>4</td><td> 168</td><td> 3.44686089</td></tr>\n",
       "\t<tr><td>5</td><td>1598</td><td>32.78621256</td></tr>\n",
       "\t<tr><td>6</td><td>2131</td><td>43.72178908</td></tr>\n",
       "\t<tr><td>7</td><td> 810</td><td>16.61879360</td></tr>\n",
       "\t<tr><td>8</td><td> 142</td><td> 2.91341814</td></tr>\n",
       "\t<tr><td>9</td><td>   2</td><td> 0.04103406</td></tr>\n",
       "</tbody>\n",
       "</table>\n"
      ],
      "text/latex": [
       "A tibble: 7 × 3\n",
       "\\begin{tabular}{lll}\n",
       " quality & count & percentage\\\\\n",
       " <fct> & <int> & <dbl>\\\\\n",
       "\\hline\n",
       "\t 3 &   23 &  0.47189167\\\\\n",
       "\t 4 &  168 &  3.44686089\\\\\n",
       "\t 5 & 1598 & 32.78621256\\\\\n",
       "\t 6 & 2131 & 43.72178908\\\\\n",
       "\t 7 &  810 & 16.61879360\\\\\n",
       "\t 8 &  142 &  2.91341814\\\\\n",
       "\t 9 &    2 &  0.04103406\\\\\n",
       "\\end{tabular}\n"
      ],
      "text/markdown": [
       "\n",
       "A tibble: 7 × 3\n",
       "\n",
       "| quality &lt;fct&gt; | count &lt;int&gt; | percentage &lt;dbl&gt; |\n",
       "|---|---|---|\n",
       "| 3 |   23 |  0.47189167 |\n",
       "| 4 |  168 |  3.44686089 |\n",
       "| 5 | 1598 | 32.78621256 |\n",
       "| 6 | 2131 | 43.72178908 |\n",
       "| 7 |  810 | 16.61879360 |\n",
       "| 8 |  142 |  2.91341814 |\n",
       "| 9 |    2 |  0.04103406 |\n",
       "\n"
      ],
      "text/plain": [
       "  quality count percentage \n",
       "1 3         23   0.47189167\n",
       "2 4        168   3.44686089\n",
       "3 5       1598  32.78621256\n",
       "4 6       2131  43.72178908\n",
       "5 7        810  16.61879360\n",
       "6 8        142   2.91341814\n",
       "7 9          2   0.04103406"
      ]
     },
     "metadata": {},
     "output_type": "display_data"
    }
   ],
   "source": [
    "num_obs <- nrow(wine_training)\n",
    "\n",
    "wine_training %>%\n",
    "  group_by(quality) %>%\n",
    "  summarize(\n",
    "    count = n(),\n",
    "    percentage = n() / num_obs * 100\n",
    "  )"
   ]
  },
  {
   "cell_type": "markdown",
   "metadata": {},
   "source": [
    "The predictor variables that will be used:\n",
    "\n",
    "\n",
    "* Fixed acidity (g(tartaric acid)/dm3)\n",
    "* Volatile acidity (g(acetic acid)/dm3)\n",
    "* Residual sugar (g/dm3)\n",
    "* Free sulfur dioxide (mg/dm3)\n",
    "* Total sulfur dioxide (mg/dm3)\n",
    "* Alcohol (%vol)\n"
   ]
  },
  {
   "cell_type": "code",
   "execution_count": 13,
   "metadata": {},
   "outputs": [
    {
     "data": {
      "text/html": [
       "<style>\n",
       ".dl-inline {width: auto; margin:0; padding: 0}\n",
       ".dl-inline>dt, .dl-inline>dd {float: none; width: auto; display: inline-block}\n",
       ".dl-inline>dt::after {content: \":\\0020\"; padding-right: .5ex}\n",
       ".dl-inline>dt:not(:first-of-type) {padding-left: .5ex}\n",
       "</style><dl class=dl-inline><dt>fixed_acidity</dt><dd>7.21921419778416</dd><dt>volatile_acidity</dt><dd>0.339044932293804</dd><dt>residual_sugar</dt><dd>5.45908904390644</dd><dt>free_sulfur_dioxide</dt><dd>30.4394747640542</dd><dt>total_sulfur_dioxide</dt><dd>115.72322527698</dd><dt>alcohol</dt><dd>10.4896088086445</dd></dl>\n"
      ],
      "text/latex": [
       "\\begin{description*}\n",
       "\\item[fixed\\textbackslash{}\\_acidity] 7.21921419778416\n",
       "\\item[volatile\\textbackslash{}\\_acidity] 0.339044932293804\n",
       "\\item[residual\\textbackslash{}\\_sugar] 5.45908904390644\n",
       "\\item[free\\textbackslash{}\\_sulfur\\textbackslash{}\\_dioxide] 30.4394747640542\n",
       "\\item[total\\textbackslash{}\\_sulfur\\textbackslash{}\\_dioxide] 115.72322527698\n",
       "\\item[alcohol] 10.4896088086445\n",
       "\\end{description*}\n"
      ],
      "text/markdown": [
       "fixed_acidity\n",
       ":   7.21921419778416volatile_acidity\n",
       ":   0.339044932293804residual_sugar\n",
       ":   5.45908904390644free_sulfur_dioxide\n",
       ":   30.4394747640542total_sulfur_dioxide\n",
       ":   115.72322527698alcohol\n",
       ":   10.4896088086445\n",
       "\n"
      ],
      "text/plain": [
       "       fixed_acidity     volatile_acidity       residual_sugar \n",
       "           7.2192142            0.3390449            5.4590890 \n",
       " free_sulfur_dioxide total_sulfur_dioxide              alcohol \n",
       "          30.4394748          115.7232253           10.4896088 "
      ]
     },
     "metadata": {},
     "output_type": "display_data"
    }
   ],
   "source": [
    "predictor_means <- wine_training %>%\n",
    "    select(fixed_acidity, volatile_acidity, residual_sugar, free_sulfur_dioxide, total_sulfur_dioxide, alcohol)%>%\n",
    "    colMeans()\n",
    "    \n",
    "predictor_means"
   ]
  },
  {
   "cell_type": "code",
   "execution_count": null,
   "metadata": {},
   "outputs": [],
   "source": []
  }
 ],
 "metadata": {
  "kernelspec": {
   "display_name": "R",
   "language": "R",
   "name": "ir"
  },
  "language_info": {
   "codemirror_mode": "r",
   "file_extension": ".r",
   "mimetype": "text/x-r-source",
   "name": "R",
   "pygments_lexer": "r",
   "version": "4.0.0"
  }
 },
 "nbformat": 4,
 "nbformat_minor": 4
}
